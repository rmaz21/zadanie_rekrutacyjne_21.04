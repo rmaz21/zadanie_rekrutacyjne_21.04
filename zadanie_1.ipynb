{
 "cells": [
  {
   "cell_type": "code",
   "execution_count": 1,
   "id": "3ef77c3a",
   "metadata": {},
   "outputs": [],
   "source": [
    "from urllib.request import urlopen\n",
    "import json\n",
    "import pandas as pd\n",
    "import gspread\n",
    "import df2gspread as d2g"
   ]
  },
  {
   "cell_type": "code",
   "execution_count": 2,
   "id": "1c8f03f8",
   "metadata": {},
   "outputs": [],
   "source": [
    "url = 'https://data.nasa.gov/resource/gh4g-9sfh.json'\n",
    "data = json.loads(urlopen(url).read())"
   ]
  },
  {
   "cell_type": "code",
   "execution_count": 16,
   "id": "257c4bd9",
   "metadata": {},
   "outputs": [],
   "source": [
    "df = pd.DataFrame(data)\n",
    "df['year'] = df['year'].astype('str').apply(lambda x: x.split('-')[0])\n",
    "df_csv = df.to_csv('data_nasa.csv')"
   ]
  }
 ],
 "metadata": {
  "kernelspec": {
   "display_name": "Python 3",
   "language": "python",
   "name": "python3"
  },
  "language_info": {
   "codemirror_mode": {
    "name": "ipython",
    "version": 3
   },
   "file_extension": ".py",
   "mimetype": "text/x-python",
   "name": "python",
   "nbconvert_exporter": "python",
   "pygments_lexer": "ipython3",
   "version": "3.8.8"
  }
 },
 "nbformat": 4,
 "nbformat_minor": 5
}
